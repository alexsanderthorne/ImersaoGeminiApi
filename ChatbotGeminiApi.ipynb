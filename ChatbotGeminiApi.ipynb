{
  "cells": [
    {
      "cell_type": "markdown",
      "metadata": {
        "id": "view-in-github",
        "colab_type": "text"
      },
      "source": [
        "<a href=\"https://colab.research.google.com/github/alexsanderthorne/ImersaoGeminiApi/blob/main/ChatbotGeminiApi.ipynb\" target=\"_parent\"><img src=\"https://colab.research.google.com/assets/colab-badge.svg\" alt=\"Open In Colab\"/></a>"
      ]
    },
    {
      "cell_type": "code",
      "execution_count": 12,
      "metadata": {
        "id": "nFQLKQ6hfXch"
      },
      "outputs": [],
      "source": [
        "#Instalando o SDK do Google\n",
        "!pip install -q -U google-generativeai"
      ]
    },
    {
      "cell_type": "code",
      "execution_count": 13,
      "metadata": {
        "id": "IthzwfnAfcsi"
      },
      "outputs": [],
      "source": [
        "#Configurações iniciais\n",
        "import google.generativeai as genai\n",
        "\n",
        "from google.colab import userdata\n",
        "api_key = userdata.get('SECRET_KEY')\n",
        "\n",
        "genai.configure(api_key=api_key)"
      ]
    },
    {
      "cell_type": "code",
      "execution_count": 14,
      "metadata": {
        "colab": {
          "base_uri": "https://localhost:8080/",
          "height": 139
        },
        "id": "iD3ihugymWBt",
        "outputId": "705f5c13-5b0c-403c-82e7-ff93e2ecbf84"
      },
      "outputs": [
        {
          "output_type": "stream",
          "name": "stdout",
          "text": [
            "models/gemini-1.0-pro\n",
            "models/gemini-1.0-pro-001\n",
            "models/gemini-1.0-pro-latest\n",
            "models/gemini-1.0-pro-vision-latest\n",
            "models/gemini-1.5-pro-latest\n",
            "models/gemini-pro\n",
            "models/gemini-pro-vision\n"
          ]
        }
      ],
      "source": [
        "#Listando os modelos disponíveis\n",
        "for m in genai.list_models():\n",
        "  if 'generateContent' in m.supported_generation_methods:\n",
        "    print(m.name)"
      ]
    },
    {
      "cell_type": "code",
      "execution_count": 15,
      "metadata": {
        "id": "O1ochaeyDn_o"
      },
      "outputs": [],
      "source": [
        "generation_config = {\n",
        "  \"candidate_count\": 1,\n",
        "  \"temperature\": 0.5,\n",
        "}"
      ]
    },
    {
      "cell_type": "code",
      "execution_count": 16,
      "metadata": {
        "id": "jwBv7DofDofw"
      },
      "outputs": [],
      "source": [
        "safety_settings={\n",
        "    'HATE': 'BLOCK_NONE',\n",
        "    'HARASSMENT': 'BLOCK_NONE',\n",
        "    'SEXUAL' : 'BLOCK_NONE',\n",
        "    'DANGEROUS' : 'BLOCK_NONE'\n",
        "    }"
      ]
    },
    {
      "cell_type": "code",
      "execution_count": 17,
      "metadata": {
        "id": "NIiSs1R5mVJE"
      },
      "outputs": [],
      "source": [
        "model = genai.GenerativeModel(model_name='gemini-1.5-pro-latest',\n",
        "                                  generation_config=generation_config,\n",
        "                                  safety_settings=safety_settings,)"
      ]
    },
    {
      "cell_type": "code",
      "execution_count": 18,
      "metadata": {
        "colab": {
          "base_uri": "https://localhost:8080/",
          "height": 35
        },
        "id": "vrRjhT2rlrU_",
        "outputId": "586f28ab-43ab-4252-a054-954f4103e7e0"
      },
      "outputs": [
        {
          "output_type": "execute_result",
          "data": {
            "text/plain": [
              "'O modelo de IA Gemini foi criado pelo **Google**. \\n'"
            ],
            "application/vnd.google.colaboratory.intrinsic+json": {
              "type": "string"
            }
          },
          "metadata": {},
          "execution_count": 18
        }
      ],
      "source": [
        "response = model.generate_content(\"Que empresa criou o modelo de IA Gemini?\")\n",
        "response.text"
      ]
    },
    {
      "cell_type": "code",
      "execution_count": 19,
      "metadata": {
        "colab": {
          "base_uri": "https://localhost:8080/",
          "height": 1000
        },
        "id": "KpaQ6hm5f2_J",
        "outputId": "810ba9f8-b1a0-46c4-c3d1-fa5e1d790d19"
      },
      "outputs": [
        {
          "output_type": "stream",
          "name": "stdout",
          "text": [
            "Resposta: Aqui estão as seleções com mais títulos da Copa do Mundo FIFA:\n",
            "\n",
            "1. **Brasil:** 5 títulos (1958, 1962, 1970, 1994, 2002)\n",
            "2. **Alemanha** e **Itália:** 4 títulos cada\n",
            "    * Alemanha (1954, 1974, 1990, 2014)\n",
            "    * Itália (1934, 1938, 1982, 2006) \n",
            "3. **Argentina** e **Uruguai:** 3 títulos cada\n",
            "    * Argentina (1978, 1986, 2022)\n",
            "    * Uruguai (1930, 1950)\n",
            "4. **França** e **Espanha:** 2 títulos cada\n",
            "    * França (1998, 2018)\n",
            "    * Espanha (2010)\n",
            "\n",
            "O Brasil é a seleção com mais títulos da Copa do Mundo, com 5 conquistas. Alemanha e Itália vêm logo atrás, com 4 títulos cada. \n",
            " \n",
            "\n",
            "\n",
            "Resposta: A resposta para essa pergunta depende um pouco de como definimos \"cidade\". \n",
            "\n",
            "* **Se considerarmos apenas a área urbanizada**, a cidade com maior extensão territorial é **Tóquio**, no Japão, com cerca de 2.194 km².\n",
            "\n",
            "* **Se considerarmos a área total da unidade administrativa**, a situação muda. A \"cidade\" com maior extensão territorial seria **Hulunbuir**, na Mongólia Interior, China, com 263.953 km². No entanto, Hulunbuir é tecnicamente uma *prefeitura com nível de cidade*, abrangendo vastas áreas rurais e pastagens, além da área urbana propriamente dita.\n",
            "\n",
            "Portanto, a resposta depende da definição de \"cidade\". Se considerarmos apenas a área urbanizada, Tóquio é a maior. Se considerarmos a área total da unidade administrativa, Hulunbuir é a maior, embora seja importante notar que a maior parte dessa área não é urbana. \n",
            " \n",
            "\n",
            "\n",
            "Esperando prompt: mostre-me uma receita simples de pré treino feita com açaí\n",
            "Resposta: ## Pré-treino Energético de Açaí (Simples e Rápido)\n",
            "\n",
            "**Ingredientes:**\n",
            "\n",
            "* 100g de polpa de açaí congelada\n",
            "* 1 banana madura\n",
            "* 1/2 xícara (120ml) de leite de coco ou outro leite vegetal\n",
            "* 1 colher de sopa de aveia em flocos\n",
            "* 1 colher de chá de mel (opcional, para adoçar)\n",
            "\n",
            "**Instruções:**\n",
            "\n",
            "1. Combine todos os ingredientes em um liquidificador.\n",
            "2. Bata até obter uma mistura homogênea e cremosa.\n",
            "3. Se necessário, adicione mais leite para ajustar a consistência.\n",
            "4. Despeje em um copo ou tigela e consuma imediatamente.\n",
            "\n",
            "**Dicas:**\n",
            "\n",
            "* Para um **impulso extra de energia**, adicione 1/2 colher de chá de guaraná em pó.\n",
            "* Se você prefere um **sabor mais doce**, adicione mais mel ou algumas gotas de adoçante.\n",
            "* Para uma **textura mais crocante**, adicione granola ou nibs de cacau por cima.\n",
            "* **Prepare com antecedência:** você pode preparar o smoothie na noite anterior e armazená-lo em um recipiente hermético na geladeira.\n",
            "\n",
            "**Benefícios:**\n",
            "\n",
            "* **Açaí:** rico em antioxidantes, energia e fibras.\n",
            "* **Banana:** fonte de potássio e carboidratos para energia.\n",
            "* **Aveia:** fornece carboidratos de baixo índice glicêmico para energia gradual.\n",
            "* **Leite de coco:**  hidratação e gorduras saudáveis.\n",
            "\n",
            "**Observação:**\n",
            "\n",
            "Esta receita é uma sugestão e pode ser adaptada de acordo com suas preferências e necessidades. Consulte um nutricionista para obter orientação personalizada sobre sua dieta e plano de treino. \n",
            "\n",
            "\n"
          ]
        },
        {
          "output_type": "error",
          "ename": "KeyboardInterrupt",
          "evalue": "Interrupted by user",
          "traceback": [
            "\u001b[0;31m---------------------------------------------------------------------------\u001b[0m",
            "\u001b[0;31mKeyboardInterrupt\u001b[0m                         Traceback (most recent call last)",
            "\u001b[0;32m<ipython-input-19-481ebd21a3b4>\u001b[0m in \u001b[0;36m<cell line: 5>\u001b[0;34m()\u001b[0m\n\u001b[1;32m      6\u001b[0m   \u001b[0mresponse\u001b[0m \u001b[0;34m=\u001b[0m \u001b[0mchat\u001b[0m\u001b[0;34m.\u001b[0m\u001b[0msend_message\u001b[0m\u001b[0;34m(\u001b[0m\u001b[0mprompt\u001b[0m\u001b[0;34m)\u001b[0m\u001b[0;34m\u001b[0m\u001b[0;34m\u001b[0m\u001b[0m\n\u001b[1;32m      7\u001b[0m   \u001b[0mprint\u001b[0m\u001b[0;34m(\u001b[0m\u001b[0;34m\"Resposta:\"\u001b[0m\u001b[0;34m,\u001b[0m \u001b[0mresponse\u001b[0m\u001b[0;34m.\u001b[0m\u001b[0mtext\u001b[0m\u001b[0;34m,\u001b[0m \u001b[0;34m'\\n\\n'\u001b[0m\u001b[0;34m)\u001b[0m\u001b[0;34m\u001b[0m\u001b[0;34m\u001b[0m\u001b[0m\n\u001b[0;32m----> 8\u001b[0;31m   \u001b[0mprompt\u001b[0m \u001b[0;34m=\u001b[0m \u001b[0minput\u001b[0m\u001b[0;34m(\u001b[0m\u001b[0;34m'Esperando prompt: '\u001b[0m\u001b[0;34m)\u001b[0m\u001b[0;34m\u001b[0m\u001b[0;34m\u001b[0m\u001b[0m\n\u001b[0m",
            "\u001b[0;32m/usr/local/lib/python3.10/dist-packages/ipykernel/kernelbase.py\u001b[0m in \u001b[0;36mraw_input\u001b[0;34m(self, prompt)\u001b[0m\n\u001b[1;32m    849\u001b[0m                 \u001b[0;34m\"raw_input was called, but this frontend does not support input requests.\"\u001b[0m\u001b[0;34m\u001b[0m\u001b[0;34m\u001b[0m\u001b[0m\n\u001b[1;32m    850\u001b[0m             )\n\u001b[0;32m--> 851\u001b[0;31m         return self._input_request(str(prompt),\n\u001b[0m\u001b[1;32m    852\u001b[0m             \u001b[0mself\u001b[0m\u001b[0;34m.\u001b[0m\u001b[0m_parent_ident\u001b[0m\u001b[0;34m,\u001b[0m\u001b[0;34m\u001b[0m\u001b[0;34m\u001b[0m\u001b[0m\n\u001b[1;32m    853\u001b[0m             \u001b[0mself\u001b[0m\u001b[0;34m.\u001b[0m\u001b[0m_parent_header\u001b[0m\u001b[0;34m,\u001b[0m\u001b[0;34m\u001b[0m\u001b[0;34m\u001b[0m\u001b[0m\n",
            "\u001b[0;32m/usr/local/lib/python3.10/dist-packages/ipykernel/kernelbase.py\u001b[0m in \u001b[0;36m_input_request\u001b[0;34m(self, prompt, ident, parent, password)\u001b[0m\n\u001b[1;32m    893\u001b[0m             \u001b[0;32mexcept\u001b[0m \u001b[0mKeyboardInterrupt\u001b[0m\u001b[0;34m:\u001b[0m\u001b[0;34m\u001b[0m\u001b[0;34m\u001b[0m\u001b[0m\n\u001b[1;32m    894\u001b[0m                 \u001b[0;31m# re-raise KeyboardInterrupt, to truncate traceback\u001b[0m\u001b[0;34m\u001b[0m\u001b[0;34m\u001b[0m\u001b[0m\n\u001b[0;32m--> 895\u001b[0;31m                 \u001b[0;32mraise\u001b[0m \u001b[0mKeyboardInterrupt\u001b[0m\u001b[0;34m(\u001b[0m\u001b[0;34m\"Interrupted by user\"\u001b[0m\u001b[0;34m)\u001b[0m \u001b[0;32mfrom\u001b[0m \u001b[0;32mNone\u001b[0m\u001b[0;34m\u001b[0m\u001b[0;34m\u001b[0m\u001b[0m\n\u001b[0m\u001b[1;32m    896\u001b[0m             \u001b[0;32mexcept\u001b[0m \u001b[0mException\u001b[0m \u001b[0;32mas\u001b[0m \u001b[0me\u001b[0m\u001b[0;34m:\u001b[0m\u001b[0;34m\u001b[0m\u001b[0;34m\u001b[0m\u001b[0m\n\u001b[1;32m    897\u001b[0m                 \u001b[0mself\u001b[0m\u001b[0;34m.\u001b[0m\u001b[0mlog\u001b[0m\u001b[0;34m.\u001b[0m\u001b[0mwarning\u001b[0m\u001b[0;34m(\u001b[0m\u001b[0;34m\"Invalid Message:\"\u001b[0m\u001b[0;34m,\u001b[0m \u001b[0mexc_info\u001b[0m\u001b[0;34m=\u001b[0m\u001b[0;32mTrue\u001b[0m\u001b[0;34m)\u001b[0m\u001b[0;34m\u001b[0m\u001b[0;34m\u001b[0m\u001b[0m\n",
            "\u001b[0;31mKeyboardInterrupt\u001b[0m: Interrupted by user"
          ]
        }
      ],
      "source": [
        "chat = model.start_chat(history=[])\n",
        "\n",
        "prompt = input('Esperando prompt: ')\n",
        "\n",
        "while prompt != \"fim\":\n",
        "  response = chat.send_message(prompt)\n",
        "  print(\"Resposta:\", response.text, '\\n\\n')\n",
        "  prompt = input('Esperando prompt: ')"
      ]
    },
    {
      "cell_type": "code",
      "execution_count": 20,
      "metadata": {
        "id": "XLAniTTDhHNW",
        "outputId": "b8ae9396-263d-47b2-9de8-eb14e454d648",
        "colab": {
          "base_uri": "https://localhost:8080/"
        }
      },
      "outputs": [
        {
          "output_type": "execute_result",
          "data": {
            "text/plain": [
              "ChatSession(\n",
              "    model=genai.GenerativeModel(\n",
              "        model_name='models/gemini-1.5-pro-latest',\n",
              "        generation_config={'candidate_count': 1, 'temperature': 0.5},\n",
              "        safety_settings={<HarmCategory.HARM_CATEGORY_HATE_SPEECH: 8>: <HarmBlockThreshold.BLOCK_NONE: 4>, <HarmCategory.HARM_CATEGORY_HARASSMENT: 7>: <HarmBlockThreshold.BLOCK_NONE: 4>, <HarmCategory.HARM_CATEGORY_SEXUALLY_EXPLICIT: 9>: <HarmBlockThreshold.BLOCK_NONE: 4>, <HarmCategory.HARM_CATEGORY_DANGEROUS_CONTENT: 10>: <HarmBlockThreshold.BLOCK_NONE: 4>},\n",
              "        tools=None,\n",
              "        system_instruction=None,\n",
              "    ),\n",
              "    history=[glm.Content({'parts': [{'text': 'quais as sel...opa do mundo?'}], 'role': 'user'}), glm.Content({'parts': [{'text': 'Aqui estão a...ulos cada. \\n'}], 'role': 'model'}), glm.Content({'parts': [{'text': 'qual a cidad...l do planeta?'}], 'role': 'user'}), glm.Content({'parts': [{'text': 'A resposta p... é urbana. \\n'}], 'role': 'model'}), glm.Content({'parts': [{'text': 'mostre-me um...eita com açaí'}], 'role': 'user'}), glm.Content({'parts': [{'text': '## Pré-trein...no de treino.'}], 'role': 'model'})]\n",
              ")"
            ]
          },
          "metadata": {},
          "execution_count": 20
        }
      ],
      "source": [
        "chat"
      ]
    },
    {
      "cell_type": "code",
      "execution_count": 21,
      "metadata": {
        "id": "sd8mvW9KghTf",
        "outputId": "12c6d249-b299-4f00-f53f-8e542e2d06c6",
        "colab": {
          "base_uri": "https://localhost:8080/"
        }
      },
      "outputs": [
        {
          "output_type": "execute_result",
          "data": {
            "text/plain": [
              "[parts {\n",
              "   text: \"quais as sele\\303\\247\\303\\265es com mais t\\303\\255tulos de copa do mundo?\"\n",
              " }\n",
              " role: \"user\",\n",
              " parts {\n",
              "   text: \"Aqui est\\303\\243o as sele\\303\\247\\303\\265es com mais t\\303\\255tulos da Copa do Mundo FIFA:\\n\\n1. **Brasil:** 5 t\\303\\255tulos (1958, 1962, 1970, 1994, 2002)\\n2. **Alemanha** e **It\\303\\241lia:** 4 t\\303\\255tulos cada\\n    * Alemanha (1954, 1974, 1990, 2014)\\n    * It\\303\\241lia (1934, 1938, 1982, 2006) \\n3. **Argentina** e **Uruguai:** 3 t\\303\\255tulos cada\\n    * Argentina (1978, 1986, 2022)\\n    * Uruguai (1930, 1950)\\n4. **Fran\\303\\247a** e **Espanha:** 2 t\\303\\255tulos cada\\n    * Fran\\303\\247a (1998, 2018)\\n    * Espanha (2010)\\n\\nO Brasil \\303\\251 a sele\\303\\247\\303\\243o com mais t\\303\\255tulos da Copa do Mundo, com 5 conquistas. Alemanha e It\\303\\241lia v\\303\\252m logo atr\\303\\241s, com 4 t\\303\\255tulos cada. \\n\"\n",
              " }\n",
              " role: \"model\",\n",
              " parts {\n",
              "   text: \"qual a cidade com maior extens\\303\\243o territorial do planeta?\"\n",
              " }\n",
              " role: \"user\",\n",
              " parts {\n",
              "   text: \"A resposta para essa pergunta depende um pouco de como definimos \\\"cidade\\\". \\n\\n* **Se considerarmos apenas a \\303\\241rea urbanizada**, a cidade com maior extens\\303\\243o territorial \\303\\251 **T\\303\\263quio**, no Jap\\303\\243o, com cerca de 2.194 km\\302\\262.\\n\\n* **Se considerarmos a \\303\\241rea total da unidade administrativa**, a situa\\303\\247\\303\\243o muda. A \\\"cidade\\\" com maior extens\\303\\243o territorial seria **Hulunbuir**, na Mong\\303\\263lia Interior, China, com 263.953 km\\302\\262. No entanto, Hulunbuir \\303\\251 tecnicamente uma *prefeitura com n\\303\\255vel de cidade*, abrangendo vastas \\303\\241reas rurais e pastagens, al\\303\\251m da \\303\\241rea urbana propriamente dita.\\n\\nPortanto, a resposta depende da defini\\303\\247\\303\\243o de \\\"cidade\\\". Se considerarmos apenas a \\303\\241rea urbanizada, T\\303\\263quio \\303\\251 a maior. Se considerarmos a \\303\\241rea total da unidade administrativa, Hulunbuir \\303\\251 a maior, embora seja importante notar que a maior parte dessa \\303\\241rea n\\303\\243o \\303\\251 urbana. \\n\"\n",
              " }\n",
              " role: \"model\",\n",
              " parts {\n",
              "   text: \"mostre-me uma receita simples de pr\\303\\251 treino feita com a\\303\\247a\\303\\255\"\n",
              " }\n",
              " role: \"user\",\n",
              " parts {\n",
              "   text: \"## Pr\\303\\251-treino Energ\\303\\251tico de A\\303\\247a\\303\\255 (Simples e R\\303\\241pido)\\n\\n**Ingredientes:**\\n\\n* 100g de polpa de a\\303\\247a\\303\\255 congelada\\n* 1 banana madura\\n* 1/2 x\\303\\255cara (120ml) de leite de coco ou outro leite vegetal\\n* 1 colher de sopa de aveia em flocos\\n* 1 colher de ch\\303\\241 de mel (opcional, para ado\\303\\247ar)\\n\\n**Instru\\303\\247\\303\\265es:**\\n\\n1. Combine todos os ingredientes em um liquidificador.\\n2. Bata at\\303\\251 obter uma mistura homog\\303\\252nea e cremosa.\\n3. Se necess\\303\\241rio, adicione mais leite para ajustar a consist\\303\\252ncia.\\n4. Despeje em um copo ou tigela e consuma imediatamente.\\n\\n**Dicas:**\\n\\n* Para um **impulso extra de energia**, adicione 1/2 colher de ch\\303\\241 de guaran\\303\\241 em p\\303\\263.\\n* Se voc\\303\\252 prefere um **sabor mais doce**, adicione mais mel ou algumas gotas de ado\\303\\247ante.\\n* Para uma **textura mais crocante**, adicione granola ou nibs de cacau por cima.\\n* **Prepare com anteced\\303\\252ncia:** voc\\303\\252 pode preparar o smoothie na noite anterior e armazen\\303\\241-lo em um recipiente herm\\303\\251tico na geladeira.\\n\\n**Benef\\303\\255cios:**\\n\\n* **A\\303\\247a\\303\\255:** rico em antioxidantes, energia e fibras.\\n* **Banana:** fonte de pot\\303\\241ssio e carboidratos para energia.\\n* **Aveia:** fornece carboidratos de baixo \\303\\255ndice glic\\303\\252mico para energia gradual.\\n* **Leite de coco:**  hidrata\\303\\247\\303\\243o e gorduras saud\\303\\241veis.\\n\\n**Observa\\303\\247\\303\\243o:**\\n\\nEsta receita \\303\\251 uma sugest\\303\\243o e pode ser adaptada de acordo com suas prefer\\303\\252ncias e necessidades. Consulte um nutricionista para obter orienta\\303\\247\\303\\243o personalizada sobre sua dieta e plano de treino.\"\n",
              " }\n",
              " role: \"model\"]"
            ]
          },
          "metadata": {},
          "execution_count": 21
        }
      ],
      "source": [
        "chat.history"
      ]
    },
    {
      "cell_type": "code",
      "execution_count": 22,
      "metadata": {
        "id": "dAcbPBocgzeX",
        "outputId": "04f05625-5894-4cd3-a289-9d374c5ee565",
        "colab": {
          "base_uri": "https://localhost:8080/",
          "height": 1000
        }
      },
      "outputs": [
        {
          "output_type": "display_data",
          "data": {
            "text/plain": [
              "<IPython.core.display.Markdown object>"
            ],
            "text/markdown": "> **user**: quais as seleções com mais títulos de copa do mundo?"
          },
          "metadata": {}
        },
        {
          "output_type": "stream",
          "name": "stdout",
          "text": [
            "-------------------------------------------\n"
          ]
        },
        {
          "output_type": "display_data",
          "data": {
            "text/plain": [
              "<IPython.core.display.Markdown object>"
            ],
            "text/markdown": "> **model**: Aqui estão as seleções com mais títulos da Copa do Mundo FIFA:\n> \n> 1. **Brasil:** 5 títulos (1958, 1962, 1970, 1994, 2002)\n> 2. **Alemanha** e **Itália:** 4 títulos cada\n>     * Alemanha (1954, 1974, 1990, 2014)\n>     * Itália (1934, 1938, 1982, 2006) \n> 3. **Argentina** e **Uruguai:** 3 títulos cada\n>     * Argentina (1978, 1986, 2022)\n>     * Uruguai (1930, 1950)\n> 4. **França** e **Espanha:** 2 títulos cada\n>     * França (1998, 2018)\n>     * Espanha (2010)\n> \n> O Brasil é a seleção com mais títulos da Copa do Mundo, com 5 conquistas. Alemanha e Itália vêm logo atrás, com 4 títulos cada. \n"
          },
          "metadata": {}
        },
        {
          "output_type": "stream",
          "name": "stdout",
          "text": [
            "-------------------------------------------\n"
          ]
        },
        {
          "output_type": "display_data",
          "data": {
            "text/plain": [
              "<IPython.core.display.Markdown object>"
            ],
            "text/markdown": "> **user**: qual a cidade com maior extensão territorial do planeta?"
          },
          "metadata": {}
        },
        {
          "output_type": "stream",
          "name": "stdout",
          "text": [
            "-------------------------------------------\n"
          ]
        },
        {
          "output_type": "display_data",
          "data": {
            "text/plain": [
              "<IPython.core.display.Markdown object>"
            ],
            "text/markdown": "> **model**: A resposta para essa pergunta depende um pouco de como definimos \"cidade\". \n> \n> * **Se considerarmos apenas a área urbanizada**, a cidade com maior extensão territorial é **Tóquio**, no Japão, com cerca de 2.194 km².\n> \n> * **Se considerarmos a área total da unidade administrativa**, a situação muda. A \"cidade\" com maior extensão territorial seria **Hulunbuir**, na Mongólia Interior, China, com 263.953 km². No entanto, Hulunbuir é tecnicamente uma *prefeitura com nível de cidade*, abrangendo vastas áreas rurais e pastagens, além da área urbana propriamente dita.\n> \n> Portanto, a resposta depende da definição de \"cidade\". Se considerarmos apenas a área urbanizada, Tóquio é a maior. Se considerarmos a área total da unidade administrativa, Hulunbuir é a maior, embora seja importante notar que a maior parte dessa área não é urbana. \n"
          },
          "metadata": {}
        },
        {
          "output_type": "stream",
          "name": "stdout",
          "text": [
            "-------------------------------------------\n"
          ]
        },
        {
          "output_type": "display_data",
          "data": {
            "text/plain": [
              "<IPython.core.display.Markdown object>"
            ],
            "text/markdown": "> **user**: mostre-me uma receita simples de pré treino feita com açaí"
          },
          "metadata": {}
        },
        {
          "output_type": "stream",
          "name": "stdout",
          "text": [
            "-------------------------------------------\n"
          ]
        },
        {
          "output_type": "display_data",
          "data": {
            "text/plain": [
              "<IPython.core.display.Markdown object>"
            ],
            "text/markdown": "> **model**: ## Pré-treino Energético de Açaí (Simples e Rápido)\n> \n> **Ingredientes:**\n> \n> * 100g de polpa de açaí congelada\n> * 1 banana madura\n> * 1/2 xícara (120ml) de leite de coco ou outro leite vegetal\n> * 1 colher de sopa de aveia em flocos\n> * 1 colher de chá de mel (opcional, para adoçar)\n> \n> **Instruções:**\n> \n> 1. Combine todos os ingredientes em um liquidificador.\n> 2. Bata até obter uma mistura homogênea e cremosa.\n> 3. Se necessário, adicione mais leite para ajustar a consistência.\n> 4. Despeje em um copo ou tigela e consuma imediatamente.\n> \n> **Dicas:**\n> \n> * Para um **impulso extra de energia**, adicione 1/2 colher de chá de guaraná em pó.\n> * Se você prefere um **sabor mais doce**, adicione mais mel ou algumas gotas de adoçante.\n> * Para uma **textura mais crocante**, adicione granola ou nibs de cacau por cima.\n> * **Prepare com antecedência:** você pode preparar o smoothie na noite anterior e armazená-lo em um recipiente hermético na geladeira.\n> \n> **Benefícios:**\n> \n> * **Açaí:** rico em antioxidantes, energia e fibras.\n> * **Banana:** fonte de potássio e carboidratos para energia.\n> * **Aveia:** fornece carboidratos de baixo índice glicêmico para energia gradual.\n> * **Leite de coco:**  hidratação e gorduras saudáveis.\n> \n> **Observação:**\n> \n> Esta receita é uma sugestão e pode ser adaptada de acordo com suas preferências e necessidades. Consulte um nutricionista para obter orientação personalizada sobre sua dieta e plano de treino."
          },
          "metadata": {}
        },
        {
          "output_type": "stream",
          "name": "stdout",
          "text": [
            "-------------------------------------------\n"
          ]
        }
      ],
      "source": [
        "#Melhorando a visualização\n",
        "#Código disponível em https://ai.google.dev/tutorials/python_quickstart#import_packages\n",
        "import textwrap\n",
        "from IPython.display import display\n",
        "from IPython.display import Markdown\n",
        "\n",
        "def to_markdown(text):\n",
        "  text = text.replace('•', '  *')\n",
        "  return Markdown(textwrap.indent(text, '> ', predicate=lambda _: True))\n",
        "\n",
        "#Imprimindo o histórico\n",
        "for message in chat.history:\n",
        "  display(to_markdown(f'**{message.role}**: {message.parts[0].text}'))\n",
        "  print('-------------------------------------------')"
      ]
    }
  ],
  "metadata": {
    "colab": {
      "provenance": [],
      "include_colab_link": true
    },
    "kernelspec": {
      "display_name": "Python 3",
      "name": "python3"
    },
    "language_info": {
      "name": "python"
    }
  },
  "nbformat": 4,
  "nbformat_minor": 0
}